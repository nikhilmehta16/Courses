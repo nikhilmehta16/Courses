{
 "cells": [
  {
   "cell_type": "markdown",
   "id": "3414432b",
   "metadata": {},
   "source": [
    "### Assignment 1"
   ]
  },
  {
   "cell_type": "code",
   "execution_count": 1,
   "id": "aecbc946",
   "metadata": {},
   "outputs": [],
   "source": [
    "import numpy as  np\n",
    "import pandas as pd\n",
    "import matplotlib.pyplot as plt\n"
   ]
  },
  {
   "cell_type": "markdown",
   "id": "dd4ef04e",
   "metadata": {},
   "source": [
    "***Q1***\n",
    "b) Data was colllected and is present in q1_rssi_data.xlsx and is also printed below."
   ]
  },
  {
   "cell_type": "code",
   "execution_count": 2,
   "id": "4b7d7e3a",
   "metadata": {},
   "outputs": [
    {
     "name": "stdout",
     "output_type": "stream",
     "text": [
      "   Distance (in metres)         0°        90°       180°       270°\n",
      "0                     1 -35.193189 -37.744180 -42.280183 -39.814305\n",
      "1                     5 -62.170244 -62.289669 -53.816717 -57.474873\n",
      "2                    10 -77.345876 -73.558462 -73.505745 -70.809951\n",
      "3                    15 -77.736728 -80.269077 -76.420517 -80.648276\n",
      "4                    20 -80.542120 -78.495392 -81.208273 -81.802957\n",
      "5                    25 -86.874198 -84.524107 -84.090510 -86.006831\n",
      "6                    30 -85.148257 -86.447151 -87.021438 -86.812323\n",
      "7                    35 -87.697923 -90.855840 -88.089686 -93.600882\n"
     ]
    }
   ],
   "source": [
    "df = pd.read_excel('./q1_rssi_data.xlsx')\n",
    "print(df)\n",
    "lst = df.values.tolist()\n",
    "x = []\n",
    "y = []\n"
   ]
  },
  {
   "cell_type": "code",
   "execution_count": 3,
   "id": "779d7e42",
   "metadata": {},
   "outputs": [],
   "source": [
    "for i in range(len(lst)):\n",
    "    for j in range(len(lst[i])-1):\n",
    "        x.append(np.log10(lst[i][0]))\n",
    "        y.append(lst[i][j+1])\n"
   ]
  },
  {
   "cell_type": "markdown",
   "id": "d94ede7f",
   "metadata": {},
   "source": [
    "***c)*** Above points are plotted on a scatter plot, y axis being RSSI (in dBm) and distance on x axis."
   ]
  },
  {
   "cell_type": "code",
   "execution_count": 4,
   "id": "43bbc07d",
   "metadata": {
    "scrolled": true
   },
   "outputs": [
    {
     "data": {
      "image/png": "[encoded data removed]",
      "text/plain": [
       "<Figure size 432x288 with 1 Axes>"
      ]
     },
     "metadata": {
      "needs_background": "light"
     },
     "output_type": "display_data"
    }
   ],
   "source": [
    "plt.scatter(x, y)\n",
    "plt.title('Scatter Plot for above data')\n",
    "plt.xlabel('distance (log scale)')\n",
    "plt.ylabel('RSSI (dBm)')\n",
    "\n",
    "plt.show()"
   ]
  },
  {
   "cell_type": "markdown",
   "id": "102209ba",
   "metadata": {},
   "source": [
    "***d)*** Best fit line is drawn using numpy.polyfit function, where slope comes to be: -38.24192849560371"
   ]
  },
  {
   "cell_type": "code",
   "execution_count": 5,
   "id": "e9cd631a",
   "metadata": {},
   "outputs": [
    {
     "name": "stdout",
     "output_type": "stream",
     "text": [
      "The parameters of the line:\n",
      "slope: -38.24192849560371, constant: -33.348596444682514\n",
      "Path loss exponent is:3.824192849560371 \n"
     ]
    }
   ],
   "source": [
    "theta = np.polyfit(x, y, 1)\n",
    "print(f'The parameters of the line:\\nslope: {theta[1]}, constant: {theta[0]}')\n",
    "print(f'Path loss exponent is:{-theta[1]/10} ')\n",
    "y_line = [theta[1] + theta[0] * pt for pt in x]\n"
   ]
  },
  {
   "cell_type": "code",
   "execution_count": 6,
   "id": "cc210125",
   "metadata": {},
   "outputs": [
    {
     "data": {
      "image/png": "[encoded data removed]",
      "text/plain": [
       "<Figure size 432x288 with 1 Axes>"
      ]
     },
     "metadata": {
      "needs_background": "light"
     },
     "output_type": "display_data"
    }
   ],
   "source": [
    "plt.scatter(x, y)\n",
    "plt.plot(x, y_line, 'r')\n",
    "plt.title('Best fit line using numpy.polyfit()')\n",
    "plt.xlabel('distance (log scale)')\n",
    "plt.ylabel('RSSI (dBm)')\n",
    "\n",
    "plt.show()"
   ]
  },
  {
   "cell_type": "markdown",
   "id": "fc7b2965",
   "metadata": {},
   "source": [
    "***e)*** Variance wrt best-fit line"
   ]
  },
  {
   "cell_type": "code",
   "execution_count": 7,
   "id": "4ef9ba40",
   "metadata": {
    "scrolled": false
   },
   "outputs": [
    {
     "name": "stdout",
     "output_type": "stream",
     "text": [
      "Variance wrt best-fit line is: 12.352689632854617\n"
     ]
    }
   ],
   "source": [
    "# Distance between a line and a point is given as:\n",
    "# Distance = (| a*x1 + b*y1 + c |) / (sqrt( a*a + b*b))\n",
    "var = 0\n",
    "m = theta[1]\n",
    "c = theta[0]\n",
    "for i in range(len(x)):\n",
    "    var+= (y[i]-(m*x[i]+c))**2\n",
    "    \n",
    "var/=len(x)\n",
    "print(f'Variance wrt best-fit line is: {var}')"
   ]
  },
  {
   "cell_type": "markdown",
   "id": "8ea37fae",
   "metadata": {},
   "source": [
    "### Q2 \n",
    "***a*** Function to give expected distance:"
   ]
  },
  {
   "cell_type": "code",
   "execution_count": 8,
   "id": "87810111",
   "metadata": {},
   "outputs": [],
   "source": [
    "# m is expected slope and c is constant of a line as in equation y = mx+c\n",
    "def dbm_to_distance(dbm, m = m , c = c):\n",
    "    log_d = (dbm - c)/m\n",
    "    d = 10**(log_d)\n",
    "    return d"
   ]
  },
  {
   "cell_type": "markdown",
   "id": "f131b747",
   "metadata": {},
   "source": [
    "We will be using 5 values from Q1, those values are in q2_rssi_dis.xlsx and also printed below."
   ]
  },
  {
   "cell_type": "code",
   "execution_count": 9,
   "id": "9c02e9d5",
   "metadata": {},
   "outputs": [
    {
     "name": "stdout",
     "output_type": "stream",
     "text": [
      "   Distance (in m)  RSSI (in dBm)\n",
      "0                5     -62.170244\n",
      "1               10     -77.345876\n",
      "2               15     -77.736728\n",
      "3               20     -80.542120\n",
      "4               25     -86.874198\n"
     ]
    }
   ],
   "source": [
    "df = pd.read_excel('./q2_rssi_dis.xlsx')\n",
    "print(df)\n",
    "lst = df.values.tolist();\n",
    "experimental_distance_lst = [pt[0] for pt in lst]\n",
    "expected_distance_lst = []\n",
    "df_lst = []  #for displaying of data"
   ]
  },
  {
   "cell_type": "code",
   "execution_count": 10,
   "id": "e4bb33e0",
   "metadata": {},
   "outputs": [
    {
     "name": "stdout",
     "output_type": "stream",
     "text": [
      "   RSSI (in dBm)  Experiment Distance  Expected Distance\n",
      "0     -62.170244                  5.0           5.671085\n",
      "1     -77.345876                 10.0          14.141597\n",
      "2     -77.736728                 15.0          14.478346\n",
      "3     -80.542120                 20.0          17.142653\n",
      "4     -86.874198                 25.0          25.099062\n"
     ]
    }
   ],
   "source": [
    "for [experiment_distance, dbm] in lst:\n",
    "    expected_distance = dbm_to_distance(dbm)\n",
    "    expected_distance_lst.append(expected_distance)\n",
    "    df_lst.append([dbm,experiment_distance,expected_distance])\n",
    "\n",
    "df = pd.DataFrame(df_lst, columns =['RSSI (in dBm)', 'Experiment Distance', 'Expected Distance'])\n",
    "print(df)"
   ]
  },
  {
   "cell_type": "markdown",
   "id": "bf034278",
   "metadata": {},
   "source": [
    "***b)*** We calculate Mean square error for the observed and expected distance as follows."
   ]
  },
  {
   "cell_type": "code",
   "execution_count": 11,
   "id": "9ac89a44",
   "metadata": {},
   "outputs": [
    {
     "name": "stdout",
     "output_type": "stream",
     "text": [
      "Average Mean Square Error is: 5.2099\n"
     ]
    }
   ],
   "source": [
    "difference_array = np.subtract(experimental_distance_lst, expected_distance_lst)\n",
    "squared_array = np.square(difference_array)\n",
    "mse = squared_array.mean()\n",
    "print(f'Average Mean Square Error is: {mse:0.4f}')\n"
   ]
  }
 ],
 "metadata": {
  "kernelspec": {
   "display_name": "Python 3 (ipykernel)",
   "language": "python",
   "name": "python3"
  },
  "language_info": {
   "codemirror_mode": {
    "name": "ipython",
    "version": 3
   },
   "file_extension": ".py",
   "mimetype": "text/x-python",
   "name": "python",
   "nbconvert_exporter": "python",
   "pygments_lexer": "ipython3",
   "version": "3.9.7"
  }
 },
 "nbformat": 4,
 "nbformat_minor": 5
}
